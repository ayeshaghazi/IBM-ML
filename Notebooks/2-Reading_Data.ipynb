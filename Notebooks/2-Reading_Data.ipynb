{
  "nbformat": 4,
  "nbformat_minor": 0,
  "metadata": {
    "colab": {
      "name": "Reading_Data.ipynb",
      "provenance": [],
      "collapsed_sections": []
    },
    "kernelspec": {
      "name": "python3",
      "display_name": "Python 3"
    }
  },
  "cells": [
    {
      "cell_type": "code",
      "metadata": {
        "id": "5acVI0XmmeG4",
        "outputId": "2fd7377e-3cea-44fc-8fa4-8ee46a8a5ebc",
        "colab": {
          "base_uri": "https://localhost:8080/",
          "height": 141
        }
      },
      "source": [
        "from google.colab import drive\n",
        "drive.mount(\"/content/gdrive\")\n",
        "\n",
        "import sqlite3 as sql3\n",
        "import pandas as pd\n",
        "import pandas.io.sql as pds\n",
        "\n",
        "filepath = \"/content/gdrive/My Drive/DATA/baseball.db\"\n",
        "conn = sql3.Connection(filepath)\n",
        "conn \n",
        "\n",
        "query = \"\"\"\n",
        "SELECT * from allstarfull;\n",
        "\"\"\"\n",
        "\n",
        "observations = pd.read_sql(query, conn)\n",
        "display(observations)\n",
        "observations.head(10)\n",
        "\n",
        "#Create a variable all_tables which reads in all the data in the sqlite_master table\n",
        "all_tables = pd.read_sql(\"SELECT * FROM sqlite_master\", conn)\n",
        "print(all_tables)\n",
        "display(all_tables)\n",
        "\n",
        "\n",
        "\n",
        "#Analyze the allstarfull table to report the top 3 players in terms of number of games played\n",
        "#If there are ties, choose players with lower starting positions first\n",
        "\n",
        "bestPlayer_query = \"\"\"\n",
        "SELECT playerID, sum(GP) AS num_games_played, AVG(startingPos) AS average_starting_position\n",
        "FROM allstarfull\n",
        "GROUP BY playerID\n",
        "ORDER BY num_games_played desc, average_starting_position asc\n",
        "LIMIT 3\n",
        "\"\"\"\n",
        "\n",
        "bestPlayer = pd.read_sql(bestPlayer_query, conn)\n",
        "display(bestPlayer)\n",
        "\n"
      ],
      "execution_count": 12,
      "outputs": [
        {
          "output_type": "display_data",
          "data": {
            "text/html": [
              "<div>\n",
              "<style scoped>\n",
              "    .dataframe tbody tr th:only-of-type {\n",
              "        vertical-align: middle;\n",
              "    }\n",
              "\n",
              "    .dataframe tbody tr th {\n",
              "        vertical-align: top;\n",
              "    }\n",
              "\n",
              "    .dataframe thead th {\n",
              "        text-align: right;\n",
              "    }\n",
              "</style>\n",
              "<table border=\"1\" class=\"dataframe\">\n",
              "  <thead>\n",
              "    <tr style=\"text-align: right;\">\n",
              "      <th></th>\n",
              "      <th>playerID</th>\n",
              "      <th>num_games_played</th>\n",
              "      <th>average_starting_position</th>\n",
              "    </tr>\n",
              "  </thead>\n",
              "  <tbody>\n",
              "    <tr>\n",
              "      <th>0</th>\n",
              "      <td>musiast01</td>\n",
              "      <td>24.0</td>\n",
              "      <td>6.357143</td>\n",
              "    </tr>\n",
              "    <tr>\n",
              "      <th>1</th>\n",
              "      <td>mayswi01</td>\n",
              "      <td>24.0</td>\n",
              "      <td>8.000000</td>\n",
              "    </tr>\n",
              "    <tr>\n",
              "      <th>2</th>\n",
              "      <td>aaronha01</td>\n",
              "      <td>24.0</td>\n",
              "      <td>8.470588</td>\n",
              "    </tr>\n",
              "  </tbody>\n",
              "</table>\n",
              "</div>"
            ],
            "text/plain": [
              "    playerID  num_games_played  average_starting_position\n",
              "0  musiast01              24.0                   6.357143\n",
              "1   mayswi01              24.0                   8.000000\n",
              "2  aaronha01              24.0                   8.470588"
            ]
          },
          "metadata": {
            "tags": []
          }
        }
      ]
    }
  ]
}